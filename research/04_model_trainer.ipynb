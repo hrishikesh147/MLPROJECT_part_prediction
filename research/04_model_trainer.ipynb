{
 "cells": [
  {
   "cell_type": "code",
   "execution_count": 1,
   "metadata": {},
   "outputs": [
    {
     "data": {
      "text/plain": [
       "'e:\\\\FullStack_Data\\\\MACHINE_LEARNING\\\\PROJECTS\\\\MLPROJECT_part_prediction\\\\research'"
      ]
     },
     "execution_count": 1,
     "metadata": {},
     "output_type": "execute_result"
    }
   ],
   "source": [
    "%pwd"
   ]
  },
  {
   "cell_type": "code",
   "execution_count": 2,
   "metadata": {},
   "outputs": [
    {
     "data": {
      "text/plain": [
       "'e:\\\\FullStack_Data\\\\MACHINE_LEARNING\\\\PROJECTS\\\\MLPROJECT_part_prediction'"
      ]
     },
     "execution_count": 2,
     "metadata": {},
     "output_type": "execute_result"
    }
   ],
   "source": [
    "import os\n",
    "os.chdir('../')\n",
    "%pwd"
   ]
  },
  {
   "cell_type": "code",
   "execution_count": null,
   "metadata": {},
   "outputs": [],
   "source": [
    "from dataclasses import dataclass\n",
    "from pathlib import Path\n",
    "\n",
    "@dataclass(frozen=True)\n",
    "class ModelTrainerConfig:\n",
    "    root_dir: Path\n",
    "    train_data_path: Path\n",
    "    test_data_path: Path\n",
    "    model_name: str\n",
    "    target_column: str \n",
    "    n_estimators: float\n",
    "    max_depth: float\n",
    "    min_samples_split: float\n",
    "    min_samples_leaf: float\n",
    "    bootstrap: bool\n"
   ]
  },
  {
   "cell_type": "code",
   "execution_count": null,
   "metadata": {},
   "outputs": [],
   "source": [
    "from src.ML_Part_predict.constants import *\n",
    "from src.ML_Part_predict.utils.common import read_yaml,create_directories\n",
    "\n",
    "class ConfigurationManager:\n",
    "    def __init__(self,config_file_p=CONFIG_FILE_PATH,params_file_p=CONFIG_FILE_PATH,schema_file_p=SCHEMA_FILE_PATH):\n",
    "        self.config=read_yaml(config_file_p)\n",
    "        self.params=read_yaml(params_file_p)\n",
    "        self.schema=read_yaml(schema_file_p)\n",
    "\n",
    "        create_directories([self.config.artifacts_root])\n",
    "\n",
    "    def get_model_trainer_config(self)->ModelTrainerConfig:\n",
    "        config=self.config.model_trainer\n",
    "        params=self.params.random_forest\n",
    "        schema=self.schema.TARGET_COLUMN\n",
    "\n",
    "        create_directories([self.config.root_dir])\n",
    "\n",
    "        model_trainer_config=ModelTrainerConfig(\n",
    "            root_dir=config.root_dir,\n",
    "            train_data_path=config.train_data_path,\n",
    "            test_data_path=config.test_data_path,\n",
    "            model_name=config.model_name,\n",
    "            target_column=schema.name,\n",
    "            n_estimators=params.n_estimators,\n",
    "            max_depth=params.max_depth,\n",
    "            min_samples_split=params.min_samples_split,\n",
    "            min_samples_split=params.min_samples_split,\n",
    "            min_samples_leaf=params.min_samples_leaf,\n",
    "            bootstrap=params.bootstrap\n",
    "\n",
    "        )\n",
    "\n",
    "        return model_trainer_config\n",
    "    \n",
    "    "
   ]
  },
  {
   "cell_type": "code",
   "execution_count": null,
   "metadata": {},
   "outputs": [],
   "source": [
    "import pandas as pd\n",
    "import os\n",
    "from src.ML_Part_predict import logger\n",
    "from sklearn.ensemble import RandomForestClassifier\n",
    "from sklearn.model_selection import RandomizedSearchCV\n",
    "from sklearn.metrics import (accuracy_score,precision_score,recall_score)\n",
    "import joblib\n",
    "\n"
   ]
  },
  {
   "cell_type": "code",
   "execution_count": null,
   "metadata": {},
   "outputs": [],
   "source": [
    "class ModelTrainer:\n",
    "    def __init__(self,config:ModelTrainerConfig):\n",
    "        self.config=config\n",
    "\n",
    "    def train(self):\n",
    "        train_data=pd.read_csv(self.config.train_data_path)\n",
    "        test_data=pd.read_csv(self.config.test_data_path)\n",
    "        logger.info(\"reading of train data and test data successfull\")\n",
    "\n",
    "        logger.info(\"X_train,X_test,y_train,y_test split initiated\")\n",
    "        X_train=train_data.drop([self.config.target_column],axis=1)\n",
    "        y_train=train_data[[self.config.target_column]]\n",
    "        X_test=test_data.drop([self.config.target_column],axis=1)\n",
    "        y_test=test_data[[self.config.target_column]]\n",
    "        logger.info(\"X_train,X_test,y_train,y_test split successfull\")\n",
    "\n",
    "        random_grid = {'n_estimators': self.config.n_estimators,\n",
    "               #'max_features': self.config.ma,\n",
    "               'max_depth': self.config.max_depth,\n",
    "               'min_samples_split': self.config.min_samples_split,\n",
    "               'min_samples_leaf': self.config.min_samples_leaf,\n",
    "               'bootstrap': self.config.bootstrap}\n",
    "        \n",
    "        rf_random_CV = RandomizedSearchCV(estimator = RandomForestClassifier(), param_distributions = random_grid, \n",
    "                               n_iter = 100, cv = 3,verbose=2, random_state=42, \n",
    "                               n_jobs =-1,scoring='neg_mean_squared_error')\n",
    "        \n",
    "        rf_random_CV.fit(X_train,y_train)\n",
    "        logger.info(\"Randomised search CV fir Completed...\")\n",
    "\n",
    "        rf_random_CV.best_estimator_\n",
    "        logger.info(f\"Randomised search CV best estimators: {rf_random_CV.best_estimator_}\")\n",
    "\n",
    "        rf_random_CV.best_params_\n",
    "        logger.info(f\"Randomised search CV best params: {rf_random_CV.best_params_}\")\n",
    "\n",
    "        rf_best_hyp=RandomForestClassifier(n_estimators=1600,min_samples_split=2,min_samples_leaf=4,max_features='sqrt',max_depth=10,bootstrap=True)\n",
    "\n",
    "        rf_best_hyp.fit(X_train,y_train)\n",
    "        logger.info(f\"Random forest fitting with best hyperparameters completed...\")\n",
    "\n",
    "        y_pred_hyp=rf_best_hyp.predict(X_test)\n",
    "\n",
    "        logger.info(\"Random Forest WITH Best Parameters\")\n",
    "        logger.info(f\"recall:{recall_score(y_test,y_pred_hyp)}\")\n",
    "        logger.info(f\"precision:{precision_score(y_test,y_pred_hyp)}\")\n",
    "        logger.info(f\"accuracy:{accuracy_score(y_test,y_pred_hyp)}\")\n",
    "\n",
    "        joblib.dump(rf_random_CV, os.path.join(self.config.root_dir,self.config.model_name))\n",
    "        logger.info(\"Model dump successfully\")"
   ]
  },
  {
   "cell_type": "code",
   "execution_count": null,
   "metadata": {},
   "outputs": [],
   "source": [
    "try:\n",
    "    con=ConfigurationManager()\n",
    "    model_trn=con.get_model_trainer_config()\n",
    "    model_trn=ModelTrainer(model_trn)\n",
    "    model_trn.train()\n",
    "except Exception as e:\n",
    "    raise e"
   ]
  }
 ],
 "metadata": {
  "kernelspec": {
   "display_name": "Python 3",
   "language": "python",
   "name": "python3"
  },
  "language_info": {
   "codemirror_mode": {
    "name": "ipython",
    "version": 3
   },
   "file_extension": ".py",
   "mimetype": "text/x-python",
   "name": "python",
   "nbconvert_exporter": "python",
   "pygments_lexer": "ipython3",
   "version": "3.9.18"
  }
 },
 "nbformat": 4,
 "nbformat_minor": 2
}
