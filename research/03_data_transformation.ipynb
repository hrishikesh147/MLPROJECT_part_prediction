{
 "cells": [
  {
   "cell_type": "code",
   "execution_count": 1,
   "metadata": {},
   "outputs": [
    {
     "data": {
      "text/plain": [
       "'e:\\\\FullStack_Data\\\\MACHINE_LEARNING\\\\PROJECTS\\\\MLPROJECT_part_prediction\\\\research'"
      ]
     },
     "execution_count": 1,
     "metadata": {},
     "output_type": "execute_result"
    }
   ],
   "source": [
    "%pwd"
   ]
  },
  {
   "cell_type": "code",
   "execution_count": 2,
   "metadata": {},
   "outputs": [],
   "source": [
    "import os\n",
    "os.chdir('../')"
   ]
  },
  {
   "cell_type": "code",
   "execution_count": 3,
   "metadata": {},
   "outputs": [
    {
     "data": {
      "text/plain": [
       "'e:\\\\FullStack_Data\\\\MACHINE_LEARNING\\\\PROJECTS\\\\MLPROJECT_part_prediction'"
      ]
     },
     "execution_count": 3,
     "metadata": {},
     "output_type": "execute_result"
    }
   ],
   "source": [
    "%pwd"
   ]
  },
  {
   "cell_type": "code",
   "execution_count": null,
   "metadata": {},
   "outputs": [],
   "source": [
    "from dataclasses import dataclass\n",
    "from pathlib import Path\n",
    "\n",
    "@dataclass(frozen=True)\n",
    "class DataTransformConfig:\n",
    "    root_dir : Path\n",
    "    data_dir : Path"
   ]
  },
  {
   "cell_type": "code",
   "execution_count": null,
   "metadata": {},
   "outputs": [],
   "source": [
    "from src.ML_Part_predict.constants import *\n",
    "from src.ML_Part_predict.utils.common import read_yaml,create_directories\n",
    "class ConfigurationManager:\n",
    "    def __init__(self,config_file_p=CONFIG_FILE_PATH,params_file_p=CONFIG_FILE_PATH,schema_file_p=SCHEMA_FILE_PATH):\n",
    "        self.config=read_yaml(config_file_p)\n",
    "        self.params=read_yaml(params_file_p)\n",
    "        self.schema=read_yaml(schema_file_p)\n",
    "\n",
    "        create_directories([self.config.artifacts_root])\n",
    "\n",
    "    def get_data_transformation_config(self) -> DataTransformConfig:\n",
    "        config=self.config.data_transformation\n",
    "\n",
    "        create_directories([config.root_dir])\n",
    "\n",
    "        data_transform_config=DataTransformConfig(\n",
    "            root_dir=config.root_dir,\n",
    "            data_dir=config.data_dir\n",
    "        )\n",
    "        return data_transform_config\n",
    "        \n",
    "\n",
    "\n",
    "\n",
    "\n",
    "\n"
   ]
  },
  {
   "cell_type": "code",
   "execution_count": 4,
   "metadata": {},
   "outputs": [
    {
     "ename": "NameError",
     "evalue": "name 'DataTransformConfig' is not defined",
     "output_type": "error",
     "traceback": [
      "\u001b[1;31m---------------------------------------------------------------------------\u001b[0m",
      "\u001b[1;31mNameError\u001b[0m                                 Traceback (most recent call last)",
      "\u001b[1;32me:\\FullStack_Data\\MACHINE_LEARNING\\PROJECTS\\MLPROJECT_part_prediction\\research\\03_data_transformation.ipynb Cell 6\u001b[0m line \u001b[0;36m7\n\u001b[0;32m      <a href='vscode-notebook-cell:/e%3A/FullStack_Data/MACHINE_LEARNING/PROJECTS/MLPROJECT_part_prediction/research/03_data_transformation.ipynb#X10sZmlsZQ%3D%3D?line=2'>3</a>\u001b[0m \u001b[39mfrom\u001b[39;00m \u001b[39msklearn\u001b[39;00m\u001b[39m.\u001b[39;00m\u001b[39mpreprocessing\u001b[39;00m \u001b[39mimport\u001b[39;00m StandardScaler\n\u001b[0;32m      <a href='vscode-notebook-cell:/e%3A/FullStack_Data/MACHINE_LEARNING/PROJECTS/MLPROJECT_part_prediction/research/03_data_transformation.ipynb#X10sZmlsZQ%3D%3D?line=3'>4</a>\u001b[0m \u001b[39mfrom\u001b[39;00m \u001b[39msrc\u001b[39;00m\u001b[39m.\u001b[39;00m\u001b[39mML_Part_predict\u001b[39;00m \u001b[39mimport\u001b[39;00m logger\n\u001b[1;32m----> <a href='vscode-notebook-cell:/e%3A/FullStack_Data/MACHINE_LEARNING/PROJECTS/MLPROJECT_part_prediction/research/03_data_transformation.ipynb#X10sZmlsZQ%3D%3D?line=6'>7</a>\u001b[0m \u001b[39mclass\u001b[39;00m \u001b[39mDataTransformation\u001b[39;00m:\n\u001b[0;32m      <a href='vscode-notebook-cell:/e%3A/FullStack_Data/MACHINE_LEARNING/PROJECTS/MLPROJECT_part_prediction/research/03_data_transformation.ipynb#X10sZmlsZQ%3D%3D?line=7'>8</a>\u001b[0m     \u001b[39mdef\u001b[39;00m \u001b[39m__init__\u001b[39m(\u001b[39mself\u001b[39m,config:DataTransformConfig):\n\u001b[0;32m      <a href='vscode-notebook-cell:/e%3A/FullStack_Data/MACHINE_LEARNING/PROJECTS/MLPROJECT_part_prediction/research/03_data_transformation.ipynb#X10sZmlsZQ%3D%3D?line=8'>9</a>\u001b[0m         \u001b[39mself\u001b[39m\u001b[39m.\u001b[39mconfig\u001b[39m=\u001b[39mconfig\n",
      "\u001b[1;32me:\\FullStack_Data\\MACHINE_LEARNING\\PROJECTS\\MLPROJECT_part_prediction\\research\\03_data_transformation.ipynb Cell 6\u001b[0m line \u001b[0;36m8\n\u001b[0;32m      <a href='vscode-notebook-cell:/e%3A/FullStack_Data/MACHINE_LEARNING/PROJECTS/MLPROJECT_part_prediction/research/03_data_transformation.ipynb#X10sZmlsZQ%3D%3D?line=6'>7</a>\u001b[0m \u001b[39mclass\u001b[39;00m \u001b[39mDataTransformation\u001b[39;00m:\n\u001b[1;32m----> <a href='vscode-notebook-cell:/e%3A/FullStack_Data/MACHINE_LEARNING/PROJECTS/MLPROJECT_part_prediction/research/03_data_transformation.ipynb#X10sZmlsZQ%3D%3D?line=7'>8</a>\u001b[0m     \u001b[39mdef\u001b[39;00m \u001b[39m__init__\u001b[39m(\u001b[39mself\u001b[39m,config:DataTransformConfig):\n\u001b[0;32m      <a href='vscode-notebook-cell:/e%3A/FullStack_Data/MACHINE_LEARNING/PROJECTS/MLPROJECT_part_prediction/research/03_data_transformation.ipynb#X10sZmlsZQ%3D%3D?line=8'>9</a>\u001b[0m         \u001b[39mself\u001b[39m\u001b[39m.\u001b[39mconfig\u001b[39m=\u001b[39mconfig\n\u001b[0;32m     <a href='vscode-notebook-cell:/e%3A/FullStack_Data/MACHINE_LEARNING/PROJECTS/MLPROJECT_part_prediction/research/03_data_transformation.ipynb#X10sZmlsZQ%3D%3D?line=10'>11</a>\u001b[0m     \u001b[39mdef\u001b[39;00m \u001b[39mdata_cleaning\u001b[39m(\u001b[39mself\u001b[39m):\n",
      "\u001b[1;31mNameError\u001b[0m: name 'DataTransformConfig' is not defined"
     ]
    }
   ],
   "source": [
    "import pandas as pd\n",
    "from sklearn.model_selection import train_test_split\n",
    "from sklearn.preprocessing import StandardScaler\n",
    "from src.ML_Part_predict import logger\n",
    "\n",
    "\n",
    "class DataTransformation:\n",
    "    def __init__(self,config:DataTransformConfig):\n",
    "        self.config=config\n",
    "\n",
    "    def feature_engg(self):\n",
    "        try:\n",
    "            data=pd.read_csv(self.config.data_dir)\n",
    "\n",
    "            logger.info(f\"The shape of the data is : {data.shape}\")\n",
    "\n",
    "            data.drop_duplicates(inplace=True)\n",
    "            logger.info(f\"Dropping duplicates. New shape: {data.shape}\")\n",
    "\n",
    "            logger.info(f\"The number of null values are : {data.isnull().sum()} \")\n",
    "\n",
    "            num_col=['VehicleYear','HoursOfOperation','SettlementAmount','PreviousFailures']\n",
    "            cat_col=[]\n",
    "\n",
    "\n",
    "\n",
    "\n",
    "            data=data.drop(['','','','','']axis=1)\n",
    "\n",
    "\n",
    "\n",
    "\n",
    "\n",
    "\n",
    "        except Exception as e:\n",
    "            raise e\n",
    "\n",
    "\n",
    "\n",
    "\n",
    "\n",
    "    def train_test_split(self):\n",
    "        try:\n",
    "            \n",
    "            data=pd.read_csv(self.config.data_dir)\n",
    "\n",
    "            X=data.drop(columns=['pass_fail'],axis=1)\n",
    "            y=data['pass_fail']\n",
    "\n",
    "            X_train,y_train,X_test,y_test=train_test_split(X,y,test_size=0.2,random_state=42)\n",
    "\n",
    "            sc=StandardScaler()\n",
    "\n",
    "            X_train_scaled=sc.fit_transform(X_train)\n",
    "            X_test_scaled=sc.transform(X_test)\n",
    "\n",
    "            X_train.to\n",
    "\n",
    "\n",
    "\n",
    "\n",
    "\n",
    "\n",
    "\n",
    "\n",
    "        "
   ]
  },
  {
   "cell_type": "markdown",
   "metadata": {},
   "source": []
  }
 ],
 "metadata": {
  "kernelspec": {
   "display_name": "Python 3",
   "language": "python",
   "name": "python3"
  },
  "language_info": {
   "codemirror_mode": {
    "name": "ipython",
    "version": 3
   },
   "file_extension": ".py",
   "mimetype": "text/x-python",
   "name": "python",
   "nbconvert_exporter": "python",
   "pygments_lexer": "ipython3",
   "version": "3.9.18"
  }
 },
 "nbformat": 4,
 "nbformat_minor": 2
}
